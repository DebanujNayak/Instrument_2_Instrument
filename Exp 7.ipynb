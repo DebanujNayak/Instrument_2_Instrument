{
 "cells": [
  {
   "cell_type": "code",
   "execution_count": 1,
   "metadata": {},
   "outputs": [
    {
     "name": "stdout",
     "output_type": "stream",
     "text": [
      "Piano key frequencies (for equal temperament):\n",
      "Key number\tScientific name\tFrequency (Hz)\n",
      "         1\t             A0\t         27.50\n",
      "         2\t            A#0\t         29.14\n",
      "         3\t             B0\t         30.87\n",
      "         4\t             C1\t         32.70\n",
      "         5\t            C#1\t         34.65\n",
      "         6\t             D1\t         36.71\n",
      "         7\t            D#1\t         38.89\n",
      "         8\t             E1\t         41.20\n",
      "         9\t             F1\t         43.65\n",
      "        10\t            F#1\t         46.25\n",
      "        11\t             G1\t         49.00\n",
      "        12\t            G#1\t         51.91\n",
      "        13\t             A1\t         55.00\n",
      "        14\t            A#1\t         58.27\n",
      "        15\t             B1\t         61.74\n",
      "        16\t             C2\t         65.41\n",
      "        17\t            C#2\t         69.30\n",
      "        18\t             D2\t         73.42\n",
      "        19\t            D#2\t         77.78\n",
      "        20\t             E2\t         82.41\n",
      "        21\t             F2\t         87.31\n",
      "        22\t            F#2\t         92.50\n",
      "        23\t             G2\t         98.00\n",
      "        24\t            G#2\t        103.83\n",
      "        25\t             A2\t        110.00\n",
      "        26\t            A#2\t        116.54\n",
      "        27\t             B2\t        123.47\n",
      "        28\t             C3\t        130.81\n",
      "        29\t            C#3\t        138.59\n",
      "        30\t             D3\t        146.83\n",
      "        31\t            D#3\t        155.56\n",
      "        32\t             E3\t        164.81\n",
      "        33\t             F3\t        174.61\n",
      "        34\t            F#3\t        185.00\n",
      "        35\t             G3\t        196.00\n",
      "        36\t            G#3\t        207.65\n",
      "        37\t             A3\t        220.00\n",
      "        38\t            A#3\t        233.08\n",
      "        39\t             B3\t        246.94\n",
      "        40\t             C4\t        261.63\n",
      "        41\t            C#4\t        277.18\n",
      "        42\t             D4\t        293.66\n",
      "        43\t            D#4\t        311.13\n",
      "        44\t             E4\t        329.63\n",
      "        45\t             F4\t        349.23\n",
      "        46\t            F#4\t        369.99\n",
      "        47\t             G4\t        392.00\n",
      "        48\t            G#4\t        415.30\n",
      "        49\t             A4\t        440.00\n",
      "        50\t            A#4\t        466.16\n",
      "        51\t             B4\t        493.88\n",
      "        52\t             C5\t        523.25\n",
      "        53\t            C#5\t        554.37\n",
      "        54\t             D5\t        587.33\n",
      "        55\t            D#5\t        622.25\n",
      "        56\t             E5\t        659.26\n",
      "        57\t             F5\t        698.46\n",
      "        58\t            F#5\t        739.99\n",
      "        59\t             G5\t        783.99\n",
      "        60\t            G#5\t        830.61\n",
      "        61\t             A5\t        880.00\n",
      "        62\t            A#5\t        932.33\n",
      "        63\t             B5\t        987.77\n",
      "        64\t             C6\t       1046.50\n",
      "        65\t            C#6\t       1108.73\n",
      "        66\t             D6\t       1174.66\n",
      "        67\t            D#6\t       1244.51\n",
      "        68\t             E6\t       1318.51\n",
      "        69\t             F6\t       1396.91\n",
      "        70\t            F#6\t       1479.98\n",
      "        71\t             G6\t       1567.98\n",
      "        72\t            G#6\t       1661.22\n",
      "        73\t             A6\t       1760.00\n",
      "        74\t            A#6\t       1864.66\n",
      "        75\t             B6\t       1975.53\n",
      "        76\t             C7\t       2093.00\n",
      "        77\t            C#7\t       2217.46\n",
      "        78\t             D7\t       2349.32\n",
      "        79\t            D#7\t       2489.02\n",
      "        80\t             E7\t       2637.02\n",
      "        81\t             F7\t       2793.83\n",
      "        82\t            F#7\t       2959.96\n",
      "        83\t             G7\t       3135.96\n",
      "        84\t            G#7\t       3322.44\n",
      "        85\t             A7\t       3520.00\n",
      "        86\t            A#7\t       3729.31\n",
      "        87\t             B7\t       3951.07\n",
      "        88\t             C8\t       4186.01\n"
     ]
    }
   ],
   "source": [
    "import random\n",
    "import numpy as np\n",
    "import pandas as pd\n",
    "import matplotlib.pyplot as plt\n",
    "from sklearn.model_selection import train_test_split\n",
    "import json\n",
    "import numpy as np\n",
    "from scipy.io import wavfile\n",
    "import librosa\n",
    "import pysynth\n",
    "import pysynth_b\n",
    "import pysynth_e\n",
    "import math"
   ]
  },
  {
   "cell_type": "code",
   "execution_count": 7,
   "metadata": {},
   "outputs": [],
   "source": [
    "with open('metadata.json') as json_file:  \n",
    "    metadata = json.load(json_file)"
   ]
  },
  {
   "cell_type": "code",
   "execution_count": 8,
   "metadata": {
    "collapsed": true
   },
   "outputs": [
    {
     "name": "stdout",
     "output_type": "stream",
     "text": [
      "7.396871223373166\n",
      "7.396871223373166\n",
      "7.396871223373166\n",
      "2.025294698089252\n",
      "2.025294698089252\n",
      "2.025294698089252\n",
      "5.497888439914206\n",
      "5.497888439914206\n",
      "5.497888439914206\n",
      "2.865613861779508\n",
      "2.865613861779508\n",
      "2.865613861779508\n"
     ]
    }
   ],
   "source": [
    "for i in range(12):\n",
    "    print(metadata['files'][i]['dur'])"
   ]
  },
  {
   "cell_type": "code",
   "execution_count": 17,
   "metadata": {},
   "outputs": [],
   "source": [
    "def extract_feature(file_name):\n",
    "    \n",
    "    X, sample_rate = librosa.load(file_name)\n",
    "    stft = np.abs(librosa.stft(X))\n",
    "    mfccs = np.mean(librosa.feature.mfcc(y=X, sr=sample_rate, n_mfcc=40).T,axis=0)\n",
    "    chroma = np.mean(librosa.feature.chroma_stft(S=stft, sr=sample_rate).T,axis=0)\n",
    "    mel = np.mean(librosa.feature.melspectrogram(X, sr=sample_rate).T,axis=0)\n",
    "    contrast = np.mean(librosa.feature.spectral_contrast(S=stft, sr=sample_rate).T,axis=0)\n",
    "    tonnetz = np.mean(librosa.feature.tonnetz(y=librosa.effects.harmonic(X), sr=sample_rate).T,axis=0)\n",
    "    \n",
    "    return np.hstack((mfccs,chroma,mel,contrast,tonnetz))"
   ]
  },
  {
   "cell_type": "code",
   "execution_count": 18,
   "metadata": {},
   "outputs": [
    {
     "name": "stdout",
     "output_type": "stream",
     "text": [
      "193\n"
     ]
    }
   ],
   "source": [
    "feat = extract_feature('jaishriram.wav')\n",
    "print(len(feat))"
   ]
  },
  {
   "cell_type": "code",
   "execution_count": 19,
   "metadata": {},
   "outputs": [
    {
     "name": "stderr",
     "output_type": "stream",
     "text": [
      "c:\\users\\deban\\appdata\\local\\programs\\python\\python37\\lib\\site-packages\\librosa\\core\\pitch.py:145: UserWarning: Trying to estimate tuning from empty frequency set.\n",
      "  warnings.warn('Trying to estimate tuning from empty frequency set.')\n"
     ]
    }
   ],
   "source": [
    "with open('metadata.json') as json_file:  \n",
    "    metadata = json.load(json_file)\n",
    "notes = ['a0', 'a#0', 'b0', 'c1', 'c#1', 'd1', 'd#1', 'e1', 'f1', 'f#1', 'g1', 'g#1', 'a1', 'a#1', 'b1', 'c2', 'c#2', 'd2', 'd#2', 'e2', 'f2', 'f#2', 'g2', 'g#2', 'a2', 'a#2', 'b2', 'c3', 'c#3', 'd3', 'd#3', 'e3', 'f3', 'f#3', 'g3', 'g#3', 'a3', 'a#3', 'b3', 'c4', 'c#4', 'd4', 'd#4', 'e4', 'f4', 'f#4', 'g4', 'g#4', 'a4', 'a#4', 'b4', 'c5', 'c#5', 'd5', 'd#5', 'e5', 'f5', 'f#5', 'g5', 'g#5', 'a5', 'a#5', 'b5', 'c6', 'c#6', 'd6', 'd#6', 'e6', 'f6', 'f#6', 'g6', 'g#6', 'a6', 'a#6', 'b6', 'c7', 'c#7', 'd7', 'd#7', 'e7', 'f7', 'f#7', 'g7', 'g#7', 'a7', 'a#7', 'b7', 'c8']\n",
    "dic ={}\n",
    "for i in range(len(notes)):\n",
    "    dic[notes[i]]=i\n",
    "    \n",
    "    \n",
    "X = np.zeros((len(metadata['files']),193))\n",
    "Y = np.zeros((len(metadata['files']),2))\n",
    "\n",
    "\n",
    "for i in range(len(metadata['files'])):\n",
    "    file = metadata['files'][i]['name']\n",
    "    X[i,:] = extract_feature(file)\n",
    "#     fs, data = wavfile.read(file)\n",
    "#     X[i][0] = ord(metadata['files'][i]['synth'][-1])-97\n",
    "    \n",
    "#     w=0\n",
    "#     while(w<len(data)-50):\n",
    "#         fl = 0\n",
    "#         for j in range(50):\n",
    "#             if(math.fabs(data[w+j])>5):\n",
    "#                 fl = 1\n",
    "#                 break\n",
    "#         if(fl==0):\n",
    "#             break\n",
    "#         w=w+1\n",
    "        \n",
    "        \n",
    "#     if(len(data)>=44100):\n",
    "#         X[i][1:-1] = data[:44100]\n",
    "#     else:\n",
    "#         X[i][1:-1] = np.array(list(data[:])+[0]*(44100-len(data)))    \n",
    "        \n",
    "#     X[i][-1]=w    \n",
    "    \n",
    "    \n",
    "    note = dic[metadata['files'][i]['notes'][0]]\n",
    "    dur = metadata['files'][i]['dur']\n",
    "    Y[i][0]=note\n",
    "    Y[i][1]=dur"
   ]
  },
  {
   "cell_type": "code",
   "execution_count": 20,
   "metadata": {},
   "outputs": [
    {
     "name": "stdout",
     "output_type": "stream",
     "text": [
      "88\n"
     ]
    }
   ],
   "source": [
    "dic2 = {}\n",
    "for i in range(len(notes)):\n",
    "    dic2[i]=notes[i]\n",
    "print(len(notes))\n"
   ]
  },
  {
   "cell_type": "code",
   "execution_count": 21,
   "metadata": {},
   "outputs": [
    {
     "name": "stdout",
     "output_type": "stream",
     "text": [
      "(750, 193) (750, 2)\n"
     ]
    }
   ],
   "source": [
    "from sklearn.utils import shuffle\n",
    "#X, Y = shuffle(X, Y, random_state=0)\n",
    "print(X.shape,Y.shape)\n",
    "Xtr, Xte, ytr, yte = train_test_split(X, Y, test_size = 0.2, random_state = 42)"
   ]
  },
  {
   "cell_type": "code",
   "execution_count": 51,
   "metadata": {},
   "outputs": [
    {
     "name": "stdout",
     "output_type": "stream",
     "text": [
      "1\n"
     ]
    },
    {
     "name": "stderr",
     "output_type": "stream",
     "text": [
      "c:\\users\\deban\\appdata\\local\\programs\\python\\python37\\lib\\site-packages\\sklearn\\neural_network\\multilayer_perceptron.py:562: ConvergenceWarning: Stochastic Optimizer: Maximum iterations (200) reached and the optimization hasn't converged yet.\n",
      "  % self.max_iter, ConvergenceWarning)\n"
     ]
    },
    {
     "name": "stdout",
     "output_type": "stream",
     "text": [
      "2\n",
      "3\n"
     ]
    },
    {
     "name": "stderr",
     "output_type": "stream",
     "text": [
      "c:\\users\\deban\\appdata\\local\\programs\\python\\python37\\lib\\site-packages\\sklearn\\neural_network\\multilayer_perceptron.py:562: ConvergenceWarning: Stochastic Optimizer: Maximum iterations (200) reached and the optimization hasn't converged yet.\n",
      "  % self.max_iter, ConvergenceWarning)\n"
     ]
    }
   ],
   "source": [
    "from sklearn.neural_network import MLPClassifier,MLPRegressor\n",
    "from sklearn.neighbors import KNeighborsRegressor\n",
    "mlc = MLPClassifier()\n",
    "mlr = MLPRegressor()\n",
    "\n",
    "print(\"1\")\n",
    "\n",
    "mlc.fit(Xtr,ytr[:,0])\n",
    "\n",
    "print(\"2\")\n",
    "\n",
    "mlr.fit(Xtr,ytr[:,1])\n",
    "\n",
    "print(\"3\")\n"
   ]
  },
  {
   "cell_type": "code",
   "execution_count": 55,
   "metadata": {},
   "outputs": [
    {
     "name": "stdout",
     "output_type": "stream",
     "text": [
      "0.9666666666666667\n",
      "0.33180272119954\n",
      "0.7506001447827454\n"
     ]
    }
   ],
   "source": [
    "print(mlc.score(Xte,yte[:,0]))\n",
    "print(mlr.score(Xte,yte[:,1]))\n",
    "print(mlr.score(Xtr,ytr[:,1]))"
   ]
  },
  {
   "cell_type": "code",
   "execution_count": 24,
   "metadata": {},
   "outputs": [],
   "source": [
    "import pysynth as ps_a\n",
    "import pysynth_b as ps_b\n",
    "import pysynth_e as ps_e\n",
    "import pysynth_s as ps_s\n",
    "\n",
    "import random\n",
    "\n",
    "basic_notes = ['a0', 'a#0', 'b0', 'c1', 'c#1', 'd1', 'd#1', 'e1', 'f1', 'f#1', 'g1', 'g#1', 'a1', 'a#1', 'b1', 'c2', 'c#2', 'd2', 'd#2', 'e2', 'f2', 'f#2', 'g2', 'g#2', 'a2', 'a#2', 'b2', 'c3', 'c#3', 'd3', 'd#3', 'e3', 'f3', 'f#3', 'g3', 'g#3', 'a3', 'a#3', 'b3', 'c4', 'c#4', 'd4', 'd#4', 'e4', 'f4', 'f#4', 'g4', 'g#4', 'a4', 'a#4', 'b4', 'c5', 'c#5', 'd5', 'd#5', 'e5', 'f5', 'f#5', 'g5', 'g#5', 'a5', 'a#5', 'b5', 'c6', 'c#6', 'd6', 'd#6', 'e6', 'f6', 'f#6', 'g6', 'g#6', 'a6', 'a#6', 'b6', 'c7', 'c#7', 'd7', 'd#7', 'e7', 'f7', 'f#7', 'g7', 'g#7', 'a7', 'a#7', 'b7', 'c8']\n",
    "\n",
    "basic_synths = {ps_a: 'pysynth_a', ps_b: 'pysynth_b', ps_e: 'pysynth_e'}\n",
    "\n",
    "def get_random_notes(size):\n",
    "    basic_notes_len = len(basic_notes)\n",
    "    notes = []\n",
    "    for _ in range(size):\n",
    "        random_index = random.randint(1, basic_notes_len - 1)\n",
    "        random_note = basic_notes[random_index]\n",
    "        notes.append(random_note)\n",
    "    #print(notes)\n",
    "    return notes\n",
    "\n",
    "\n",
    "def generate_wavfile_from_notes(notes,dur):\n",
    "    size = len(notes)  \n",
    "    text = tuple(zip(notes, [dur]*size))\n",
    "    print(text)\n",
    "    c = 1\n",
    "    for synth in basic_synths:\n",
    "        file_name = \"sound_\"+str(c)+\".wav\"\n",
    "        synth.make_wav(text, fn=file_name)\n",
    "        print(\"file \"+str(c)+\" done\")\n",
    "        c=c+1\n",
    "\n",
    "def make_sound_files(size,dur):\n",
    "    notes = get_random_notes(size)\n",
    "    print(notes)\n",
    "    generate_wavfile_from_notes(notes,dur)\n",
    "    return notes\n",
    "    "
   ]
  },
  {
   "cell_type": "code",
   "execution_count": 25,
   "metadata": {},
   "outputs": [
    {
     "name": "stdout",
     "output_type": "stream",
     "text": [
      "['g#6']\n",
      "(('g#6', 3),)\n",
      "Writing to file sound_1.wav\n",
      "[1/1]\t\n",
      "\n",
      "file 1 done\n",
      "[1/1]\t\n",
      "Writing to file sound_2.wav\n",
      "\n",
      "file 2 done\n",
      "[1/1]\t\n",
      "Writing to file sound_3.wav\n",
      "\n",
      "file 3 done\n"
     ]
    }
   ],
   "source": [
    "notes = make_sound_files(1,3)"
   ]
  },
  {
   "cell_type": "code",
   "execution_count": 26,
   "metadata": {},
   "outputs": [
    {
     "name": "stdout",
     "output_type": "stream",
     "text": [
      "['g#6']\n",
      "[71]\n"
     ]
    }
   ],
   "source": [
    "print(notes)\n",
    "note_nums=[dic[j] for j in notes]\n",
    "print(note_nums)"
   ]
  },
  {
   "cell_type": "code",
   "execution_count": 27,
   "metadata": {},
   "outputs": [],
   "source": [
    "def get_features(X,sample_rate):\n",
    "    \n",
    "    stft = np.abs(librosa.stft(X))\n",
    "    mfccs = np.mean(librosa.feature.mfcc(y=X, sr=sample_rate, n_mfcc=40).T,axis=0)\n",
    "    chroma = np.mean(librosa.feature.chroma_stft(S=stft, sr=sample_rate).T,axis=0)\n",
    "    mel = np.mean(librosa.feature.melspectrogram(X, sr=sample_rate).T,axis=0)\n",
    "    contrast = np.mean(librosa.feature.spectral_contrast(S=stft, sr=sample_rate).T,axis=0)\n",
    "    tonnetz = np.mean(librosa.feature.tonnetz(y=librosa.effects.harmonic(X), sr=sample_rate).T,axis=0)\n",
    "    \n",
    "    return np.hstack((mfccs,chroma,mel,contrast,tonnetz))"
   ]
  },
  {
   "cell_type": "code",
   "execution_count": 28,
   "metadata": {},
   "outputs": [
    {
     "name": "stdout",
     "output_type": "stream",
     "text": [
      "[71.]\n"
     ]
    }
   ],
   "source": [
    "file = 'sound_2.wav'\n",
    "arr , fs = librosa.load(file)\n",
    "test_samp = get_features(arr,fs)\n",
    "ans = mlc.predict([test_samp])\n",
    "print(ans)"
   ]
  },
  {
   "cell_type": "code",
   "execution_count": 29,
   "metadata": {},
   "outputs": [
    {
     "name": "stdout",
     "output_type": "stream",
     "text": [
      "[71.]\n"
     ]
    }
   ],
   "source": [
    "file = 'sound_1.wav'\n",
    "arr , fs = librosa.load(file)\n",
    "test_samp = get_features(arr,fs)\n",
    "ans = mlc.predict([test_samp])\n",
    "print(ans)"
   ]
  },
  {
   "cell_type": "code",
   "execution_count": 45,
   "metadata": {},
   "outputs": [
    {
     "name": "stdout",
     "output_type": "stream",
     "text": [
      "[57, 62, 52, 53]\n",
      "Writing to file jaishriram.wav\n",
      "[1/4]\t\n",
      "\n"
     ]
    }
   ],
   "source": [
    "nums = [dic[j] for j in ['f#5','b5','c#5','d5']]\n",
    "print(nums)\n",
    "tup = (('f#5',2),('b5',2),('c#5',2),('d5',2))\n",
    "pysynth.make_wav(tup,fn = 'jaishriram.wav')"
   ]
  },
  {
   "cell_type": "code",
   "execution_count": 46,
   "metadata": {},
   "outputs": [
    {
     "name": "stdout",
     "output_type": "stream",
     "text": [
      "[    0 21504 22528 44544 65536 66560 87552]\n",
      "7\n",
      "22050\n"
     ]
    },
    {
     "data": {
      "image/png": "[encoded data removed]",
      "text/plain": [
       "<Figure size 432x288 with 1 Axes>"
      ]
     },
     "metadata": {
      "needs_background": "light"
     },
     "output_type": "display_data"
    }
   ],
   "source": [
    "file = \"jaishriram.wav\"\n",
    "arr , fs = librosa.load(file)\n",
    "onset = np.array([0]+list(librosa.onset.onset_detect(y = arr, sr = fs, units = 'samples')))\n",
    "print(onset)\n",
    "print(len(onset))\n",
    "print(fs)\n",
    "plt.plot(list(range(len(arr))),arr)\n",
    "plt.vlines(onset,-1,1)\n",
    "plt.show()"
   ]
  },
  {
   "cell_type": "code",
   "execution_count": 53,
   "metadata": {},
   "outputs": [
    {
     "name": "stdout",
     "output_type": "stream",
     "text": [
      "[[array([57.]), array([1.95509554])], [array([62.]), array([2.16402637])], [array([52.]), array([1.60644496])], [array([53.]), array([2.06135117])]]\n"
     ]
    }
   ],
   "source": [
    "pred = []\n",
    "for i in range(len(onset)-1):\n",
    "    t = arr[onset[i]:onset[i+1]]\n",
    "    if(len(t)>4000):\n",
    "        temp = get_features(t,fs)\n",
    "        pred_note = mlc.predict([temp])\n",
    "        pred_dur = mlr.predict([temp])\n",
    "        pred.append([pred_note,pred_dur])\n",
    "    \n",
    "print(pred)"
   ]
  },
  {
   "cell_type": "code",
   "execution_count": 54,
   "metadata": {},
   "outputs": [
    {
     "name": "stdout",
     "output_type": "stream",
     "text": [
      "[1/4]\t\n",
      "Writing to file jaishriram2.wav\n",
      "\n"
     ]
    }
   ],
   "source": [
    "tup = (('f#5',1.955),('b5',2.164),('c#5',1.606),('d5',2.061))\n",
    "pysynth_e.make_wav(tup,fn = 'jaishriram2.wav')"
   ]
  },
  {
   "cell_type": "code",
   "execution_count": null,
   "metadata": {},
   "outputs": [],
   "source": []
  }
 ],
 "metadata": {
  "kernelspec": {
   "display_name": "Python 3",
   "language": "python",
   "name": "python3"
  },
  "language_info": {
   "codemirror_mode": {
    "name": "ipython",
    "version": 3
   },
   "file_extension": ".py",
   "mimetype": "text/x-python",
   "name": "python",
   "nbconvert_exporter": "python",
   "pygments_lexer": "ipython3",
   "version": "3.7.2"
  }
 },
 "nbformat": 4,
 "nbformat_minor": 2
}
