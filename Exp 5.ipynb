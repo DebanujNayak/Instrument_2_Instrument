{
 "cells": [
  {
   "cell_type": "code",
   "execution_count": 1,
   "metadata": {},
   "outputs": [
    {
     "name": "stdout",
     "output_type": "stream",
     "text": [
      "Piano key frequencies (for equal temperament):\n",
      "Key number\tScientific name\tFrequency (Hz)\n",
      "         1\t             A0\t         27.50\n",
      "         2\t            A#0\t         29.14\n",
      "         3\t             B0\t         30.87\n",
      "         4\t             C1\t         32.70\n",
      "         5\t            C#1\t         34.65\n",
      "         6\t             D1\t         36.71\n",
      "         7\t            D#1\t         38.89\n",
      "         8\t             E1\t         41.20\n",
      "         9\t             F1\t         43.65\n",
      "        10\t            F#1\t         46.25\n",
      "        11\t             G1\t         49.00\n",
      "        12\t            G#1\t         51.91\n",
      "        13\t             A1\t         55.00\n",
      "        14\t            A#1\t         58.27\n",
      "        15\t             B1\t         61.74\n",
      "        16\t             C2\t         65.41\n",
      "        17\t            C#2\t         69.30\n",
      "        18\t             D2\t         73.42\n",
      "        19\t            D#2\t         77.78\n",
      "        20\t             E2\t         82.41\n",
      "        21\t             F2\t         87.31\n",
      "        22\t            F#2\t         92.50\n",
      "        23\t             G2\t         98.00\n",
      "        24\t            G#2\t        103.83\n",
      "        25\t             A2\t        110.00\n",
      "        26\t            A#2\t        116.54\n",
      "        27\t             B2\t        123.47\n",
      "        28\t             C3\t        130.81\n",
      "        29\t            C#3\t        138.59\n",
      "        30\t             D3\t        146.83\n",
      "        31\t            D#3\t        155.56\n",
      "        32\t             E3\t        164.81\n",
      "        33\t             F3\t        174.61\n",
      "        34\t            F#3\t        185.00\n",
      "        35\t             G3\t        196.00\n",
      "        36\t            G#3\t        207.65\n",
      "        37\t             A3\t        220.00\n",
      "        38\t            A#3\t        233.08\n",
      "        39\t             B3\t        246.94\n",
      "        40\t             C4\t        261.63\n",
      "        41\t            C#4\t        277.18\n",
      "        42\t             D4\t        293.66\n",
      "        43\t            D#4\t        311.13\n",
      "        44\t             E4\t        329.63\n",
      "        45\t             F4\t        349.23\n",
      "        46\t            F#4\t        369.99\n",
      "        47\t             G4\t        392.00\n",
      "        48\t            G#4\t        415.30\n",
      "        49\t             A4\t        440.00\n",
      "        50\t            A#4\t        466.16\n",
      "        51\t             B4\t        493.88\n",
      "        52\t             C5\t        523.25\n",
      "        53\t            C#5\t        554.37\n",
      "        54\t             D5\t        587.33\n",
      "        55\t            D#5\t        622.25\n",
      "        56\t             E5\t        659.26\n",
      "        57\t             F5\t        698.46\n",
      "        58\t            F#5\t        739.99\n",
      "        59\t             G5\t        783.99\n",
      "        60\t            G#5\t        830.61\n",
      "        61\t             A5\t        880.00\n",
      "        62\t            A#5\t        932.33\n",
      "        63\t             B5\t        987.77\n",
      "        64\t             C6\t       1046.50\n",
      "        65\t            C#6\t       1108.73\n",
      "        66\t             D6\t       1174.66\n",
      "        67\t            D#6\t       1244.51\n",
      "        68\t             E6\t       1318.51\n",
      "        69\t             F6\t       1396.91\n",
      "        70\t            F#6\t       1479.98\n",
      "        71\t             G6\t       1567.98\n",
      "        72\t            G#6\t       1661.22\n",
      "        73\t             A6\t       1760.00\n",
      "        74\t            A#6\t       1864.66\n",
      "        75\t             B6\t       1975.53\n",
      "        76\t             C7\t       2093.00\n",
      "        77\t            C#7\t       2217.46\n",
      "        78\t             D7\t       2349.32\n",
      "        79\t            D#7\t       2489.02\n",
      "        80\t             E7\t       2637.02\n",
      "        81\t             F7\t       2793.83\n",
      "        82\t            F#7\t       2959.96\n",
      "        83\t             G7\t       3135.96\n",
      "        84\t            G#7\t       3322.44\n",
      "        85\t             A7\t       3520.00\n",
      "        86\t            A#7\t       3729.31\n",
      "        87\t             B7\t       3951.07\n",
      "        88\t             C8\t       4186.01\n"
     ]
    }
   ],
   "source": [
    "import random\n",
    "import numpy as np\n",
    "import pandas as pd\n",
    "import matplotlib.pyplot as plt\n",
    "from sklearn.model_selection import train_test_split\n",
    "import json\n",
    "import numpy as np\n",
    "from scipy.io import wavfile\n",
    "import librosa\n",
    "import pysynth\n",
    "import pysynth_b\n",
    "import pysynth_e"
   ]
  },
  {
   "cell_type": "code",
   "execution_count": 2,
   "metadata": {},
   "outputs": [
    {
     "name": "stdout",
     "output_type": "stream",
     "text": [
      "41884\n"
     ]
    },
    {
     "data": {
      "image/png": "[encoded data removed]",
      "text/plain": [
       "<Figure size 432x288 with 1 Axes>"
      ]
     },
     "metadata": {
      "needs_background": "light"
     },
     "output_type": "display_data"
    }
   ],
   "source": [
    "with open('metadata.json') as json_file:  \n",
    "    metadata = json.load(json_file)\n",
    "file = metadata['files'][0]['name']\n",
    "fs, data = wavfile.read(file)\n",
    "print(len(data))\n",
    "plt.plot(list(range(len(data))),data)\n",
    "plt.show()"
   ]
  },
  {
   "cell_type": "code",
   "execution_count": 3,
   "metadata": {},
   "outputs": [],
   "source": [
    "\n",
    "with open('metadata.json') as json_file:  \n",
    "    metadata = json.load(json_file)\n",
    "notes = ['a0', 'a#0', 'b0', 'c1', 'c#1', 'd1', 'd#1', 'e1', 'f1', 'f#1', 'g1', 'g#1', 'a1', 'a#1', 'b1', 'c2', 'c#2', 'd2', 'd#2', 'e2', 'f2', 'f#2', 'g2', 'g#2', 'a2', 'a#2', 'b2', 'c3', 'c#3', 'd3', 'd#3', 'e3', 'f3', 'f#3', 'g3', 'g#3', 'a3', 'a#3', 'b3', 'c4', 'c#4', 'd4', 'd#4', 'e4', 'f4', 'f#4', 'g4', 'g#4', 'a4', 'a#4', 'b4', 'c5', 'c#5', 'd5', 'd#5', 'e5', 'f5', 'f#5', 'g5', 'g#5', 'a5', 'a#5', 'b5', 'c6', 'c#6', 'd6', 'd#6', 'e6', 'f6', 'f#6', 'g6', 'g#6', 'a6', 'a#6', 'b6', 'c7', 'c#7', 'd7', 'd#7', 'e7', 'f7', 'f#7', 'g7', 'g#7', 'a7', 'a#7', 'b7', 'c8']\n",
    "dic ={}\n",
    "for i in range(len(notes)):\n",
    "    dic[notes[i]]=i\n",
    "X = np.zeros((len(metadata['files']),44101))\n",
    "Y = np.zeros((len(metadata['files']),2))\n",
    "for i in range(len(metadata['files'])):\n",
    "    file = metadata['files'][i]['name']\n",
    "    fs, data = wavfile.read(file)\n",
    "    X[i][0] = ord(metadata['files'][i]['synth'][-1])-97\n",
    "    if(len(data)>=44100):\n",
    "        X[i][1:] = data[:44100]\n",
    "    else:\n",
    "        X[i][1:] = np.array(list(data[:])+[0]*(44100-len(data)))\n",
    "    note = dic[metadata['files'][i]['notes'][0]]\n",
    "    dur = metadata['files'][i]['dur']\n",
    "    Y[i][0]=note\n",
    "    Y[i][1]=dur\n",
    "    "
   ]
  },
  {
   "cell_type": "code",
   "execution_count": 68,
   "metadata": {
    "scrolled": true
   },
   "outputs": [
    {
     "name": "stdout",
     "output_type": "stream",
     "text": [
      "88\n"
     ]
    },
    {
     "data": {
      "text/plain": [
       "{0: 'a0',\n",
       " 1: 'a#0',\n",
       " 2: 'b0',\n",
       " 3: 'c1',\n",
       " 4: 'c#1',\n",
       " 5: 'd1',\n",
       " 6: 'd#1',\n",
       " 7: 'e1',\n",
       " 8: 'f1',\n",
       " 9: 'f#1',\n",
       " 10: 'g1',\n",
       " 11: 'g#1',\n",
       " 12: 'a1',\n",
       " 13: 'a#1',\n",
       " 14: 'b1',\n",
       " 15: 'c2',\n",
       " 16: 'c#2',\n",
       " 17: 'd2',\n",
       " 18: 'd#2',\n",
       " 19: 'e2',\n",
       " 20: 'f2',\n",
       " 21: 'f#2',\n",
       " 22: 'g2',\n",
       " 23: 'g#2',\n",
       " 24: 'a2',\n",
       " 25: 'a#2',\n",
       " 26: 'b2',\n",
       " 27: 'c3',\n",
       " 28: 'c#3',\n",
       " 29: 'd3',\n",
       " 30: 'd#3',\n",
       " 31: 'e3',\n",
       " 32: 'f3',\n",
       " 33: 'f#3',\n",
       " 34: 'g3',\n",
       " 35: 'g#3',\n",
       " 36: 'a3',\n",
       " 37: 'a#3',\n",
       " 38: 'b3',\n",
       " 39: 'c4',\n",
       " 40: 'c#4',\n",
       " 41: 'd4',\n",
       " 42: 'd#4',\n",
       " 43: 'e4',\n",
       " 44: 'f4',\n",
       " 45: 'f#4',\n",
       " 46: 'g4',\n",
       " 47: 'g#4',\n",
       " 48: 'a4',\n",
       " 49: 'a#4',\n",
       " 50: 'b4',\n",
       " 51: 'c5',\n",
       " 52: 'c#5',\n",
       " 53: 'd5',\n",
       " 54: 'd#5',\n",
       " 55: 'e5',\n",
       " 56: 'f5',\n",
       " 57: 'f#5',\n",
       " 58: 'g5',\n",
       " 59: 'g#5',\n",
       " 60: 'a5',\n",
       " 61: 'a#5',\n",
       " 62: 'b5',\n",
       " 63: 'c6',\n",
       " 64: 'c#6',\n",
       " 65: 'd6',\n",
       " 66: 'd#6',\n",
       " 67: 'e6',\n",
       " 68: 'f6',\n",
       " 69: 'f#6',\n",
       " 70: 'g6',\n",
       " 71: 'g#6',\n",
       " 72: 'a6',\n",
       " 73: 'a#6',\n",
       " 74: 'b6',\n",
       " 75: 'c7',\n",
       " 76: 'c#7',\n",
       " 77: 'd7',\n",
       " 78: 'd#7',\n",
       " 79: 'e7',\n",
       " 80: 'f7',\n",
       " 81: 'f#7',\n",
       " 82: 'g7',\n",
       " 83: 'g#7',\n",
       " 84: 'a7',\n",
       " 85: 'a#7',\n",
       " 86: 'b7',\n",
       " 87: 'c8'}"
      ]
     },
     "execution_count": 68,
     "metadata": {},
     "output_type": "execute_result"
    }
   ],
   "source": [
    "dic2 = {}\n",
    "for i in range(len(notes)):\n",
    "    dic2[i]=notes[i]\n",
    "print(len(notes))\n",
    "dic2"
   ]
  },
  {
   "cell_type": "code",
   "execution_count": 4,
   "metadata": {},
   "outputs": [
    {
     "name": "stdout",
     "output_type": "stream",
     "text": [
      "(600, 44101) (600, 2)\n"
     ]
    }
   ],
   "source": [
    "from sklearn.utils import shuffle\n",
    "#X, Y = shuffle(X, Y, random_state=0)\n",
    "print(X.shape,Y.shape)\n",
    "Xtr, Xte, ytr, yte = train_test_split(X, Y, test_size = 0.2, random_state = 42)"
   ]
  },
  {
   "cell_type": "code",
   "execution_count": 5,
   "metadata": {},
   "outputs": [
    {
     "name": "stdout",
     "output_type": "stream",
     "text": [
      "1\n",
      "2\n",
      "3\n",
      "1.0\n",
      "-810156.6642665984\n"
     ]
    }
   ],
   "source": [
    "from sklearn.neural_network import MLPClassifier,MLPRegressor\n",
    "mlc = MLPClassifier()\n",
    "mlr = MLPRegressor()\n",
    "\n",
    "print(\"1\")\n",
    "\n",
    "mlc.fit(Xtr,ytr[:,0])\n",
    "print(\"2\")\n",
    "mlr.fit(Xtr,ytr[:,1])\n",
    "\n",
    "print(\"3\")\n",
    "\n",
    "print(mlc.score(Xte[:10],yte[:10,0]))\n",
    "print(mlr.score(Xte[:10],yte[:10,1]))\n"
   ]
  },
  {
   "cell_type": "code",
   "execution_count": 72,
   "metadata": {
    "scrolled": true
   },
   "outputs": [
    {
     "name": "stdout",
     "output_type": "stream",
     "text": [
      "0.9916666666666667\n",
      "-13484591.088734666\n"
     ]
    }
   ],
   "source": [
    "print(mlc.score(Xte,yte[:,0]))\n",
    "print(mlr.score(Xte,yte[:,1]))"
   ]
  },
  {
   "cell_type": "code",
   "execution_count": 73,
   "metadata": {},
   "outputs": [
    {
     "name": "stdout",
     "output_type": "stream",
     "text": [
      "[36.]\n"
     ]
    }
   ],
   "source": [
    "print(mlc.predict([[0]+list(np.random.randn(44100))]))"
   ]
  },
  {
   "cell_type": "code",
   "execution_count": 74,
   "metadata": {},
   "outputs": [
    {
     "name": "stdout",
     "output_type": "stream",
     "text": [
      "[  1536  11776  15360  28672  29696  43008  57344  84992  95232  98816\n",
      " 112640 126464 140288 167424 168448 175616 182272 203264 210432 223744\n",
      " 250880 252416 262144 266240 279552 293376 307200 321024 322048]\n"
     ]
    },
    {
     "data": {
      "image/png": "[encoded data removed]",
      "text/plain": [
       "<Figure size 432x288 with 1 Axes>"
      ]
     },
     "metadata": {
      "needs_background": "light"
     },
     "output_type": "display_data"
    }
   ],
   "source": [
    "file = 'pysynth_anthem.wav'\n",
    "arr , fs = librosa.load(file)\n",
    "onset = librosa.onset.onset_detect(y = arr, sr = fs, units = 'samples')\n",
    "print(onset)\n",
    "plt.plot(list(range(len(arr))),arr)\n",
    "plt.vlines(onset,-1,1)\n",
    "plt.show()"
   ]
  },
  {
   "cell_type": "code",
   "execution_count": 77,
   "metadata": {},
   "outputs": [
    {
     "name": "stdout",
     "output_type": "stream",
     "text": [
      "[[42.0, 2.0781571140291284], [33.0, -1.2299872452056486], [26.0, 1.2743839753872042], [84.0, -0.9877830387032996], [42.0, -0.09853833246993708], [42.0, -0.7200047158158466], [60.0, -1.8115844112646193], [50.0, -3.634537435136843], [3.0, -1.9368541718598113], [50.0, 2.621135464692774], [23.0, -1.1152892081737555], [14.0, -3.1513676351162134], [71.0, -3.4514689829785516], [49.0, 4.006526128074118], [49.0, 1.1946509241520333], [60.0, 0.43371730877442544], [23.0, -0.13376582268740894], [42.0, 0.5777911756985773], [3.0, -2.6112204437235667], [79.0, -3.2887823944083827], [42.0, -1.9021384257553182], [14.0, -0.1336505890446934], [50.0, -0.4794246414019194], [79.0, -0.6094511115261708], [57.0, -0.8784780749511357], [49.0, -0.49277649139380564], [50.0, -2.3240167512076657], [81.0, -2.5496188256056938]]\n"
     ]
    }
   ],
   "source": [
    "ans = []\n",
    "for i in range(len(onset)-1):\n",
    "    t = arr[onset[i]:onset[i+1]]\n",
    "    if(len(t)>=44100):\n",
    "        #temp = np.array([0] + list(t[:44100]))\n",
    "        temp = [1] + list(np.random.randn(44100))\n",
    "    else:\n",
    "         #temp = np.array([0] + list(t) + [0]*(44100-len(t)))\n",
    "        temp = [0] + list(np.random.randn(44100))\n",
    "            \n",
    "    #plt.plot(list(range(len(temp))),temp)\n",
    "    #plt.show()\n",
    "    \n",
    "    pred_note = mlc.predict([temp])\n",
    "    pred_dur = mlr.predict([temp])\n",
    "    ans.append([pred_note[0],pred_dur[0]])\n",
    "    \n",
    "print(ans)"
   ]
  },
  {
   "cell_type": "code",
   "execution_count": 80,
   "metadata": {},
   "outputs": [],
   "source": [
    "final = []\n",
    "for i in range(len(ans)):\n",
    "    final.append(tuple([dic2[int(ans[i][0])],ans[i][1]]))"
   ]
  },
  {
   "cell_type": "code",
   "execution_count": 81,
   "metadata": {},
   "outputs": [
    {
     "name": "stdout",
     "output_type": "stream",
     "text": [
      "[('d#4', 2.0781571140291284), ('f#3', -1.2299872452056486), ('b2', 1.2743839753872042), ('a7', -0.9877830387032996), ('d#4', -0.09853833246993708), ('d#4', -0.7200047158158466), ('a5', -1.8115844112646193), ('b4', -3.634537435136843), ('c1', -1.9368541718598113), ('b4', 2.621135464692774), ('g#2', -1.1152892081737555), ('b1', -3.1513676351162134), ('g#6', -3.4514689829785516), ('a#4', 4.006526128074118), ('a#4', 1.1946509241520333), ('a5', 0.43371730877442544), ('g#2', -0.13376582268740894), ('d#4', 0.5777911756985773), ('c1', -2.6112204437235667), ('e7', -3.2887823944083827), ('d#4', -1.9021384257553182), ('b1', -0.1336505890446934), ('b4', -0.4794246414019194), ('e7', -0.6094511115261708), ('f#5', -0.8784780749511357), ('a#4', -0.49277649139380564), ('b4', -2.3240167512076657), ('f#7', -2.5496188256056938)]\n"
     ]
    }
   ],
   "source": [
    "print(final)"
   ]
  },
  {
   "cell_type": "code",
   "execution_count": 82,
   "metadata": {},
   "outputs": [
    {
     "name": "stdout",
     "output_type": "stream",
     "text": [
      "Writing to file deb2.wav\n",
      "[1/28]\t\n",
      "[5/28]\t\n"
     ]
    },
    {
     "ename": "KeyboardInterrupt",
     "evalue": "",
     "output_type": "error",
     "traceback": [
      "\u001b[1;31m---------------------------------------------------------------------------\u001b[0m",
      "\u001b[1;31mKeyboardInterrupt\u001b[0m                         Traceback (most recent call last)",
      "\u001b[1;32m<ipython-input-82-820cffdfe6f0>\u001b[0m in \u001b[0;36m<module>\u001b[1;34m\u001b[0m\n\u001b[1;32m----> 1\u001b[1;33m \u001b[0mpysynth\u001b[0m\u001b[1;33m.\u001b[0m\u001b[0mmake_wav\u001b[0m\u001b[1;33m(\u001b[0m\u001b[0mtuple\u001b[0m\u001b[1;33m(\u001b[0m\u001b[0mfinal\u001b[0m\u001b[1;33m)\u001b[0m\u001b[1;33m,\u001b[0m \u001b[0mfn\u001b[0m \u001b[1;33m=\u001b[0m \u001b[1;34m\"deb2.wav\"\u001b[0m\u001b[1;33m)\u001b[0m\u001b[1;33m\u001b[0m\u001b[1;33m\u001b[0m\u001b[0m\n\u001b[0m",
      "\u001b[1;32mc:\\users\\deban\\appdata\\local\\programs\\python\\python37\\lib\\site-packages\\pysynth.py\u001b[0m in \u001b[0;36mmake_wav\u001b[1;34m(song, bpm, transpose, pause, boost, repeat, fn, silent)\u001b[0m\n\u001b[0;32m    148\u001b[0m                                         \u001b[0mb\u001b[0m\u001b[1;33m=\u001b[0m\u001b[0mlength\u001b[0m\u001b[1;33m(\u001b[0m\u001b[0mx\u001b[0m\u001b[1;33m[\u001b[0m\u001b[1;36m1\u001b[0m\u001b[1;33m]\u001b[0m\u001b[1;33m)\u001b[0m\u001b[1;33m\u001b[0m\u001b[1;33m\u001b[0m\u001b[0m\n\u001b[0;32m    149\u001b[0m                                 \u001b[0mex_pos\u001b[0m \u001b[1;33m=\u001b[0m \u001b[0mex_pos\u001b[0m \u001b[1;33m+\u001b[0m \u001b[0mb\u001b[0m\u001b[1;33m\u001b[0m\u001b[1;33m\u001b[0m\u001b[0m\n\u001b[1;32m--> 150\u001b[1;33m                                 \u001b[0mcurpos\u001b[0m \u001b[1;33m=\u001b[0m \u001b[0mcurpos\u001b[0m \u001b[1;33m+\u001b[0m \u001b[0mrender2\u001b[0m\u001b[1;33m(\u001b[0m\u001b[0ma\u001b[0m\u001b[1;33m,\u001b[0m\u001b[0mb\u001b[0m\u001b[1;33m,\u001b[0m\u001b[0mvol\u001b[0m\u001b[1;33m)\u001b[0m\u001b[1;33m\u001b[0m\u001b[1;33m\u001b[0m\u001b[0m\n\u001b[0m\u001b[0;32m    151\u001b[0m \u001b[1;33m\u001b[0m\u001b[0m\n\u001b[0;32m    152\u001b[0m                         \u001b[1;32mif\u001b[0m \u001b[0mx\u001b[0m\u001b[1;33m[\u001b[0m\u001b[1;36m0\u001b[0m\u001b[1;33m]\u001b[0m\u001b[1;33m==\u001b[0m\u001b[1;34m'r'\u001b[0m\u001b[1;33m:\u001b[0m\u001b[1;33m\u001b[0m\u001b[1;33m\u001b[0m\u001b[0m\n",
      "\u001b[1;32mc:\\users\\deban\\appdata\\local\\programs\\python\\python37\\lib\\site-packages\\pysynth.py\u001b[0m in \u001b[0;36mrender2\u001b[1;34m(a, b, vol)\u001b[0m\n\u001b[0;32m    114\u001b[0m \t\t\tow=ow+sixteenbit((asin(float(x)/l[0])\n\u001b[0;32m    115\u001b[0m                                 \u001b[1;33m+\u001b[0m\u001b[0mharm\u001b[0m\u001b[1;33m*\u001b[0m\u001b[0masin\u001b[0m\u001b[1;33m(\u001b[0m\u001b[0mfloat\u001b[0m\u001b[1;33m(\u001b[0m\u001b[0mx\u001b[0m\u001b[1;33m)\u001b[0m\u001b[1;33m/\u001b[0m\u001b[1;33m(\u001b[0m\u001b[0ml\u001b[0m\u001b[1;33m[\u001b[0m\u001b[1;36m0\u001b[0m\u001b[1;33m]\u001b[0m\u001b[1;33m/\u001b[0m\u001b[1;36m2.\u001b[0m\u001b[1;33m)\u001b[0m\u001b[1;33m)\u001b[0m\u001b[1;33m\u001b[0m\u001b[1;33m\u001b[0m\u001b[0m\n\u001b[1;32m--> 116\u001b[1;33m \t\t\t\t+.5*harm*asin(float(x)/(l[0]/4.)))/4.*fac*vol*dfac*volfac)\n\u001b[0m\u001b[0;32m    117\u001b[0m                 \u001b[0mfill\u001b[0m \u001b[1;33m=\u001b[0m \u001b[0mmax\u001b[0m\u001b[1;33m(\u001b[0m\u001b[0mint\u001b[0m\u001b[1;33m(\u001b[0m\u001b[0mex_pos\u001b[0m \u001b[1;33m-\u001b[0m \u001b[0mcurpos\u001b[0m \u001b[1;33m-\u001b[0m \u001b[0mq\u001b[0m\u001b[1;33m)\u001b[0m\u001b[1;33m,\u001b[0m \u001b[1;36m0\u001b[0m\u001b[1;33m)\u001b[0m\u001b[1;33m\u001b[0m\u001b[1;33m\u001b[0m\u001b[0m\n\u001b[0;32m    118\u001b[0m                 \u001b[0mf\u001b[0m\u001b[1;33m.\u001b[0m\u001b[0mwriteframesraw\u001b[0m\u001b[1;33m(\u001b[0m\u001b[1;33m(\u001b[0m\u001b[0mow\u001b[0m\u001b[1;33m)\u001b[0m\u001b[1;33m+\u001b[0m\u001b[1;33m(\u001b[0m\u001b[0msixteenbit\u001b[0m\u001b[1;33m(\u001b[0m\u001b[1;36m0\u001b[0m\u001b[1;33m)\u001b[0m\u001b[1;33m*\u001b[0m\u001b[0mfill\u001b[0m\u001b[1;33m)\u001b[0m\u001b[1;33m)\u001b[0m\u001b[1;33m\u001b[0m\u001b[1;33m\u001b[0m\u001b[0m\n",
      "\u001b[1;31mKeyboardInterrupt\u001b[0m: "
     ]
    }
   ],
   "source": [
    "pysynth.make_wav(tuple(final), fn = \"deb2.wav\")"
   ]
  },
  {
   "cell_type": "code",
   "execution_count": 83,
   "metadata": {},
   "outputs": [
    {
     "name": "stdout",
     "output_type": "stream",
     "text": [
      "[3.42505433 3.48517867 2.58837644 3.36257543 4.38644608 4.43447313\n",
      " 1.90120925 3.2068574  2.00947989 2.03314305 1.46067359 2.98499486\n",
      " 3.30077793 2.03314305 1.23872325 1.2454027  2.04602028 4.97784278\n",
      " 2.83750108 1.42105629 3.98364261 3.92608688 3.67693174 1.28952492\n",
      " 3.25130893 3.19241166 4.54142157 4.90134026 3.1771535  1.82251039\n",
      " 2.83750108 4.03753203 2.61319995 3.50474337 3.67693174 1.05723861\n",
      " 1.2362576  4.777048   1.15883395 2.19168912 2.21019605 3.17180232\n",
      " 3.83127569 2.02351792 1.84296023 3.07080686 2.8733271  4.97784278\n",
      " 2.19168912 3.86513543 2.25047568 2.01024764 4.52267878 4.77847887\n",
      " 1.2362576  2.56470616 3.2068574  4.94376489 1.41520868 2.22089863\n",
      " 2.19915855 2.23622799 2.61838691 4.19379569 3.86513543 2.61838691\n",
      " 3.50474337 4.66812706 1.62675709 3.03576729 2.26873698 4.96018329\n",
      " 3.03576729 1.84296023 4.13267452 1.73857996 2.61154314 4.90134026\n",
      " 2.70545746 2.59181119 3.42411287 3.36257543 4.64191226 2.13790697\n",
      " 1.54203551 4.777048   1.95013258 1.5451881  1.83669335 1.69528853\n",
      " 1.09380467 1.23872325 1.27659217 2.46939778 1.09730007 2.08379029\n",
      " 2.62324655 3.00879689 4.76603102 1.72751346 4.92042992 3.25130893\n",
      " 2.69001653 4.88882026 4.80622227 1.27659217 2.97726687 4.33540238\n",
      " 4.94376489 4.97376159 3.83127569 1.80408378 2.46232816 4.777048\n",
      " 1.2454027  4.30036714 3.01481674 2.23469201 1.46067359 3.04347682\n",
      " 2.45929517 3.33952189 2.30972556 2.97726687 3.07080686 4.74007797\n",
      " 1.26295984 2.96045584 4.46143264 4.66812706 2.69881641 4.6204282\n",
      " 3.01481674 2.19915855 2.96045584 2.28430134 2.20812662 1.42105629\n",
      " 1.65494379 4.97376159 2.61154314 1.96582218 2.56470616 2.52827777\n",
      " 3.48517867 2.73270047 1.05723861 2.13132481 2.8733271  3.19241166\n",
      " 4.03753203 4.06902543 1.37008271 3.04347682 3.76727113 2.69001653\n",
      " 2.02351792 4.94002988 1.86936031 1.26295984 1.72751346 4.96027233\n",
      " 4.38644608 4.19790559 2.59149597 2.23469201 1.27659217 2.85859532\n",
      " 2.17998275 4.77847887 1.80408378 4.18576613 3.22923037 4.04910213\n",
      " 2.10579529 1.09380467 4.46143264 2.96045584 3.03576729 2.69881641\n",
      " 3.10341802 3.37305602 3.92714834 1.35375507 2.13066583 2.97726687\n",
      " 1.54203551 2.90261559 3.18154495 3.17180232 3.98364261 1.96582218\n",
      " 3.07346586 2.20352836 3.07346586 2.67530783 1.91224854 2.20812662\n",
      " 4.92042992 2.58837644 2.83750108 2.08379029 2.28085749 4.24530191\n",
      " 3.22923037 1.90120925 3.42505433 4.01971456 2.59181119 4.33540238\n",
      " 2.61154314 3.94916086 3.86513543 3.33952189 1.48219719 2.28430134\n",
      " 2.26873698 1.15883395 1.5451881  3.98364261 1.95013258 2.20352836\n",
      " 4.54142157 3.68740008 1.69528853 2.23469201 1.11058648 3.50474337\n",
      " 2.22089863 3.92608688 3.22923037 2.23431112 1.65570866 2.46232816\n",
      " 1.6788939  4.52267878 2.70545746 1.9982283  2.20352836 1.65494379\n",
      " 3.94916086 1.1515369  3.19241166 3.27652017 3.33481592 2.53548124\n",
      " 4.18576613 1.37008271 4.94376489 2.42692326 3.27652017 3.78307592\n",
      " 2.21019605 2.40281178 4.24530191 1.07186697 1.92089313 2.8705595\n",
      " 2.46232816 1.12120849 4.96688509 1.22551282 3.42411287 2.25047568\n",
      " 4.30036714 2.10579529 2.28085749 4.8715804  2.85012268 3.36257543\n",
      " 3.27715348 2.59149597 1.69528853 3.07080686 1.37008271 4.8715804\n",
      " 4.77847887 1.749003   2.75385045 3.42505433 3.10341802 2.2734808\n",
      " 4.04910213 3.53855985 1.28952492 4.8402857  3.92608688 2.69228991\n",
      " 2.2734808  2.67530783 1.97986665 1.67449978 4.43607102 3.94916086\n",
      " 1.96582218 4.8715804  3.28531547 2.13066583 4.13267452 1.62675709\n",
      " 3.30077793 1.749003   3.07346586 1.23872325 1.2454027  1.92089313\n",
      " 3.27715348 2.53548124 4.44795834 4.92042992 2.58837644 4.47728283\n",
      " 4.06902543 3.76727113 1.6788939  2.2734808  3.92714834 4.80622227\n",
      " 4.88882026 3.76727113 3.40413772 4.74007797 1.11058648 1.48219719\n",
      " 2.85012268 1.47588077 4.76603102 4.6204282  2.85859532 4.01971456\n",
      " 2.79775517 4.43607102 3.25130893 1.46067359 4.76603102 1.97986665\n",
      " 2.40281178 4.70702586 3.18154495 3.68740008 2.63989234 4.43447313\n",
      " 2.45929517 2.00258736 2.93097117 1.53348894 4.90134026 1.90120925\n",
      " 1.12120849 4.42732902 2.23622799 2.90261559 2.40281178 2.69228991\n",
      " 2.01024764 1.2362576  3.82358948 2.85012268 4.66812706 1.41520868\n",
      " 3.78307592 4.06902543 1.33743927 3.17180232 1.49608727 2.30972556\n",
      " 2.73270047 1.65494379 2.73270047 1.28952492 2.13132481 1.73857996\n",
      " 3.27652017 4.47728283 2.56470616 3.82066945 2.30972556 1.49608727\n",
      " 1.11058648 1.67449978 4.30036714 4.1998058  3.83127569 3.53855985\n",
      " 2.13790697 2.42692326 2.28430134 1.49608727 4.1998058  1.6788939\n",
      " 3.33481592 2.19168912 1.41520868 3.37305602 2.45929517 1.83669335\n",
      " 3.28531547 2.70545746 2.85859532 1.09380467 3.22061292 2.61838691\n",
      " 1.47588077 4.67939964 1.09730007 3.22061292 3.82066945 1.35375507\n",
      " 2.20812662 2.42692326 1.42105629 2.97820871 2.97820871 4.18576613\n",
      " 2.13790697 3.29717111 3.48517867 2.46939778 2.28085749 1.62675709\n",
      " 4.47728283 2.20348384 2.17998275 4.88882026 1.48219719 1.86936031\n",
      " 2.52827777 4.44795834 2.63989234 2.04602028 1.84296023 2.59149597\n",
      " 2.19915855 2.21019605 4.70702586 2.25047568 2.97820871 2.93097117\n",
      " 2.53548124 2.61319995 2.00947989 4.01971456 3.37305602 1.91224854\n",
      " 4.97784278 3.10341802 1.1515369  2.02351792 2.62324655 2.20348384\n",
      " 3.00879689 2.26909945 4.03753203 2.26909945 4.94002988 3.67693174\n",
      " 4.96018329 2.22089863 2.59181119 2.79775517 1.72751346 3.01481674\n",
      " 3.82358948 3.33481592 4.13267452 2.03314305 3.68740008 3.53855985\n",
      " 2.00258736 1.26295984 4.96018329 1.12120849 4.19790559 1.35375507\n",
      " 4.64191226 1.749003   4.33540238 3.22061292 1.1515369  2.13132481]\n"
     ]
    }
   ],
   "source": [
    "print(ytr[:,1])"
   ]
  },
  {
   "cell_type": "code",
   "execution_count": null,
   "metadata": {},
   "outputs": [],
   "source": []
  }
 ],
 "metadata": {
  "kernelspec": {
   "display_name": "Python 3",
   "language": "python",
   "name": "python3"
  },
  "language_info": {
   "codemirror_mode": {
    "name": "ipython",
    "version": 3
   },
   "file_extension": ".py",
   "mimetype": "text/x-python",
   "name": "python",
   "nbconvert_exporter": "python",
   "pygments_lexer": "ipython3",
   "version": "3.7.2"
  }
 },
 "nbformat": 4,
 "nbformat_minor": 2
}
